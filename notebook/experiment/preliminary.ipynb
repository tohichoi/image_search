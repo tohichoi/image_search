{
 "cells": [
  {
   "cell_type": "markdown",
   "metadata": {},
   "source": [
    "# Experiment of package use, logic, and data\n",
    "<hr>"
   ]
  },
  {
   "cell_type": "markdown",
   "metadata": {},
   "source": [
    "## matplotlib import (need for skimage)"
   ]
  },
  {
   "cell_type": "code",
   "execution_count": null,
   "metadata": {
    "collapsed": false
   },
   "outputs": [],
   "source": [
    "%matplotlib inline"
   ]
  },
  {
   "cell_type": "code",
   "execution_count": null,
   "metadata": {
    "collapsed": false
   },
   "outputs": [],
   "source": [
    "import matplotlib\n",
    "matplotlib.use('GTKAgg')\n",
    "import matplotlib.pyplot as plt"
   ]
  },
  {
   "cell_type": "markdown",
   "metadata": {},
   "source": [
    "# ipython"
   ]
  },
  {
   "cell_type": "code",
   "execution_count": null,
   "metadata": {
    "collapsed": true
   },
   "outputs": [],
   "source": [
    "import IPython\n",
    "import IPython.display as ipydisp"
   ]
  },
  {
   "cell_type": "markdown",
   "metadata": {},
   "source": [
    "# numpy"
   ]
  },
  {
   "cell_type": "code",
   "execution_count": null,
   "metadata": {
    "collapsed": true
   },
   "outputs": [],
   "source": [
    "import numpy as np"
   ]
  },
  {
   "cell_type": "markdown",
   "metadata": {},
   "source": [
    "## util function"
   ]
  },
  {
   "cell_type": "code",
   "execution_count": null,
   "metadata": {
    "collapsed": true
   },
   "outputs": [],
   "source": [
    "def show_array(arr):\n",
    "    print 'size: %d' % arr.size\n",
    "    print 'shape: ' + str(arr.shape)\n",
    "    print 'type: %s' % type(arr)\n",
    "    print 'data type: %s' % arr.dtype\n",
    "    print 'item size(number of elements in the array): %s' % arr.itemsize\n",
    "    print 'ndim: %s' % arr.ndim"
   ]
  },
  {
   "cell_type": "code",
   "execution_count": null,
   "metadata": {
    "collapsed": true
   },
   "outputs": [],
   "source": [
    "def show(msg):\n",
    "    ipydisp.display(msg)"
   ]
  },
  {
   "cell_type": "markdown",
   "metadata": {},
   "source": [
    "## data type conversion"
   ]
  },
  {
   "cell_type": "markdown",
   "metadata": {},
   "source": [
    "### data types\n",
    "\n",
    "<pre>\n",
    "| type       | description                                                                      |\n",
    "|------------+----------------------------------------------------------------------------------|\n",
    "| bool_      | Boolean (True or False) stored as a byte                                         |\n",
    "| int_       | Default integer type (same as C long; normally either int64 or int32)            |\n",
    "| intc       | Identical to C int (normally int32 or int64)                                     |\n",
    "| intp       | Integer used for indexing (same as C ssize_t; normally either int32 or int64)    |\n",
    "| int8       | Byte (-128 to 127)                                                               |\n",
    "| int16      | Integer (-32768 to 32767)                                                        |\n",
    "| int32      | Integer (-2147483648 to 2147483647)                                              |\n",
    "| int64      | Integer (-9223372036854775808 to 9223372036854775807)                            |\n",
    "| uint8      | Unsigned integer (0 to 255)                                                      |\n",
    "| uint16     | Unsigned integer (0 to 65535)                                                    |\n",
    "| uint32     | Unsigned integer (0 to 4294967295)                                               |\n",
    "| uint64     | Unsigned integer (0 to 18446744073709551615)                                     |\n",
    "| float_     | Shorthand for float64.                                                           |\n",
    "| float16    | Half precision float: sign bit, 5 bits exponent, 10 bits mantissa                |\n",
    "| float32    | Single precision float: sign bit, 8 bits exponent, 23 bits mantissa              |\n",
    "| float64    | Double precision float: sign bit, 11 bits exponent, 52 bits mantissa             |\n",
    "| complex_   | Shorthand for complex128.                                                        |\n",
    "| complex64  | Complex number, represented by two 32-bit floats (real and imaginary components) |\n",
    "| complex128 | Complex number, represented by two 64-bit floats (real and imaginary components) |\n",
    "</pre>"
   ]
  },
  {
   "cell_type": "markdown",
   "metadata": {},
   "source": [
    "### creating specific type"
   ]
  },
  {
   "cell_type": "code",
   "execution_count": null,
   "metadata": {
    "collapsed": false
   },
   "outputs": [],
   "source": [
    "arr=np.array([1, 2, 3, 4, 5, 6], dtype=np.uint8)"
   ]
  },
  {
   "cell_type": "markdown",
   "metadata": {},
   "source": [
    "### converting types"
   ]
  },
  {
   "cell_type": "code",
   "execution_count": null,
   "metadata": {
    "collapsed": false
   },
   "outputs": [],
   "source": [
    "arr.astype(float)"
   ]
  },
  {
   "cell_type": "markdown",
   "metadata": {},
   "source": [
    "### to list"
   ]
  },
  {
   "cell_type": "code",
   "execution_count": null,
   "metadata": {
    "collapsed": false,
    "scrolled": true
   },
   "outputs": [],
   "source": [
    "arr.tolist()"
   ]
  },
  {
   "cell_type": "markdown",
   "metadata": {},
   "source": [
    "### from list"
   ]
  },
  {
   "cell_type": "code",
   "execution_count": null,
   "metadata": {
    "collapsed": false
   },
   "outputs": [],
   "source": [
    "l=[11, 12, 13, 14, 15, 16]\n",
    "np.array(l)"
   ]
  },
  {
   "cell_type": "markdown",
   "metadata": {},
   "source": [
    "## changing structure"
   ]
  },
  {
   "cell_type": "code",
   "execution_count": null,
   "metadata": {
    "collapsed": false
   },
   "outputs": [],
   "source": [
    "arr2=arr.reshape(3, 2)\n",
    "print arr2"
   ]
  },
  {
   "cell_type": "code",
   "execution_count": null,
   "metadata": {
    "collapsed": false,
    "scrolled": true
   },
   "outputs": [],
   "source": [
    "# Return a copy of the array collapsed into one dimension.\n",
    "arr2.flatten()"
   ]
  },
  {
   "cell_type": "code",
   "execution_count": null,
   "metadata": {
    "collapsed": false
   },
   "outputs": [],
   "source": [
    "# Return a flattened array.\n",
    "arr2.ravel()"
   ]
  },
  {
   "cell_type": "code",
   "execution_count": null,
   "metadata": {
    "collapsed": false
   },
   "outputs": [],
   "source": [
    "arr3=arr2.reshape((1, 3, 2))\n",
    "# Remove single-dimensional entries from the shape of a.\n",
    "arr3.squeeze(0)"
   ]
  },
  {
   "cell_type": "markdown",
   "metadata": {},
   "source": [
    "## ndarray"
   ]
  },
  {
   "cell_type": "code",
   "execution_count": null,
   "metadata": {
    "collapsed": false
   },
   "outputs": [],
   "source": [
    "show_array(arr2)"
   ]
  },
  {
   "cell_type": "code",
   "execution_count": null,
   "metadata": {
    "collapsed": false
   },
   "outputs": [],
   "source": [
    "y=arr2[:,0]\n",
    "show_array(y)"
   ]
  },
  {
   "cell_type": "markdown",
   "metadata": {},
   "source": [
    "### iterating elements"
   ]
  },
  {
   "cell_type": "code",
   "execution_count": null,
   "metadata": {
    "collapsed": false
   },
   "outputs": [],
   "source": [
    "# iterating 2d array\n",
    "nsum=0\n",
    "for x in arr2.flat:\n",
    "    nsum+=x\n",
    "show(nsum)"
   ]
  },
  {
   "cell_type": "markdown",
   "metadata": {},
   "source": [
    "## operation, statistics"
   ]
  },
  {
   "cell_type": "code",
   "execution_count": null,
   "metadata": {
    "collapsed": false
   },
   "outputs": [],
   "source": [
    "show('transpose')\n",
    "show(arr2.T)\n",
    "\n",
    "show('argmax')\n",
    "show(arr.argmax())"
   ]
  },
  {
   "cell_type": "markdown",
   "metadata": {},
   "source": [
    "# skimage"
   ]
  },
  {
   "cell_type": "code",
   "execution_count": null,
   "metadata": {
    "collapsed": true
   },
   "outputs": [],
   "source": [
    "import skimage\n",
    "import skimage.io"
   ]
  },
  {
   "cell_type": "markdown",
   "metadata": {},
   "source": [
    "## reading an image"
   ]
  },
  {
   "cell_type": "code",
   "execution_count": null,
   "metadata": {
    "collapsed": true
   },
   "outputs": [],
   "source": [
    "image=skimage.io.imread('data/1413794251.jpg')"
   ]
  },
  {
   "cell_type": "markdown",
   "metadata": {},
   "source": [
    "### image attributes"
   ]
  },
  {
   "cell_type": "code",
   "execution_count": null,
   "metadata": {
    "collapsed": false
   },
   "outputs": [],
   "source": [
    "print 'size: %d' % image.size\n",
    "print 'shape: %d, %d' % (image.shape[0], image.shape[1])\n",
    "print 'type: %s' % type(image)\n",
    "print 'data type: %s' % image.dtype"
   ]
  },
  {
   "cell_type": "markdown",
   "metadata": {},
   "source": [
    "## viewing an image"
   ]
  },
  {
   "cell_type": "code",
   "execution_count": null,
   "metadata": {
    "collapsed": false
   },
   "outputs": [],
   "source": [
    "import skimage.viewer\n",
    "\n",
    "viewer=skimage.viewer.ImageViewer(image)\n",
    "viewer.show()"
   ]
  },
  {
   "cell_type": "markdown",
   "metadata": {},
   "source": [
    "## reading multiple images"
   ]
  },
  {
   "cell_type": "code",
   "execution_count": null,
   "metadata": {
    "collapsed": true
   },
   "outputs": [],
   "source": [
    "def imread_convert(f, img_num):\n",
    "    return skimage.io.imread(f).astype(np.uint8)\n",
    "\n",
    "filespec='data/*'\n",
    "collection=skimage.io.ImageCollection(filespec, load_func=imread_convert)"
   ]
  },
  {
   "cell_type": "markdown",
   "metadata": {},
   "source": [
    "## viewing multiple images"
   ]
  },
  {
   "cell_type": "code",
   "execution_count": null,
   "metadata": {
    "collapsed": false,
    "scrolled": true
   },
   "outputs": [],
   "source": [
    "collection_viewer=skimage.viewer.CollectionViewer(collection)\n",
    "collection_viewer.show()"
   ]
  },
  {
   "cell_type": "markdown",
   "metadata": {},
   "source": [
    "#### seaborn"
   ]
  },
  {
   "cell_type": "code",
   "execution_count": null,
   "metadata": {
    "collapsed": true
   },
   "outputs": [],
   "source": [
    "import seaborn as sns"
   ]
  },
  {
   "cell_type": "code",
   "execution_count": null,
   "metadata": {
    "collapsed": true
   },
   "outputs": [],
   "source": [
    "# matplotlib\n",
    "\n",
    "plt.style.use('seaborn-notebook')\n",
    "#sns.set_style(\"whitegrid\")\n",
    "#sns.set_style(\"ticks\")\n",
    "sns.set_style(\"dark\")\n",
    "\n",
    "plt.rc('font', family='Noto Sans Korean')\n",
    "plt.rc(\"savefig\", dpi=200)"
   ]
  },
  {
   "cell_type": "markdown",
   "metadata": {},
   "source": [
    "## ploting"
   ]
  },
  {
   "cell_type": "code",
   "execution_count": null,
   "metadata": {
    "collapsed": false
   },
   "outputs": [],
   "source": [
    "x = np.arange(0, 5, 0.1);\n",
    "y = np.sin(x)\n",
    "ax=plt.plot(x, y)\n",
    "fig = matplotlib.pyplot.gcf()\n",
    "fig.set_size_inches(15, 5)\n",
    "plt.show()\n",
    "#fig.savefig('test2png.png', dpi=100)"
   ]
  },
  {
   "cell_type": "markdown",
   "metadata": {},
   "source": [
    "## showing image"
   ]
  },
  {
   "cell_type": "code",
   "execution_count": null,
   "metadata": {
    "collapsed": false
   },
   "outputs": [],
   "source": [
    "plt.imshow(image, hold=True)\n",
    "plt.plot([100,200,300,400], [100,300,200,160], 'ro', markersize=10)\n",
    "plt.axis([0, image.shape[1], 0, image.shape[0]])\n",
    "plt.gca().invert_yaxis()\n",
    "plt.show()"
   ]
  },
  {
   "cell_type": "code",
   "execution_count": null,
   "metadata": {
    "collapsed": true
   },
   "outputs": [],
   "source": []
  }
 ],
 "metadata": {
  "kernelspec": {
   "display_name": "Python [Root]",
   "language": "python",
   "name": "Python [Root]"
  },
  "language_info": {
   "codemirror_mode": {
    "name": "ipython",
    "version": 2
   },
   "file_extension": ".py",
   "mimetype": "text/x-python",
   "name": "python",
   "nbconvert_exporter": "python",
   "pygments_lexer": "ipython2",
   "version": "2.7.12"
  }
 },
 "nbformat": 4,
 "nbformat_minor": 0
}
