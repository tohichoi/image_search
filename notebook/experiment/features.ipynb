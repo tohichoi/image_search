{
 "cells": [
  {
   "cell_type": "markdown",
   "metadata": {},
   "source": [
    "# Features"
   ]
  },
  {
   "cell_type": "markdown",
   "metadata": {},
   "source": [
    "## imports"
   ]
  },
  {
   "cell_type": "code",
   "execution_count": null,
   "metadata": {
    "collapsed": true
   },
   "outputs": [],
   "source": [
    "%matplotlib inline"
   ]
  },
  {
   "cell_type": "code",
   "execution_count": null,
   "metadata": {
    "collapsed": false
   },
   "outputs": [],
   "source": [
    "# ipython\n",
    "import IPython\n",
    "import IPython.display as ipydisp\n",
    "\n",
    "# numpy\n",
    "import numpy as np\n",
    "\n",
    "# matplotlib\n",
    "import matplotlib\n",
    "matplotlib.use('gtkagg')\n",
    "import matplotlib.pyplot as plt\n",
    "\n",
    "# skimage\n",
    "import skimage\n",
    "import skimage.io\n",
    "from skimage import data\n",
    "from skimage import transform as tf\n",
    "from skimage.feature import (match_descriptors, corner_harris, corner_peaks, ORB, plot_matches)\n",
    "from skimage.color import rgb2gray\n",
    "\n",
    "# scipy\n",
    "# .spatial.distance.euclidean\n",
    "import scipy\n",
    "\n",
    "# seaborn\n",
    "import seaborn as sns\n",
    "\n",
    "plt.style.use('seaborn-notebook')\n",
    "#sns.set_style(\"whitegrid\")\n",
    "#sns.set_style(\"ticks\")\n",
    "sns.set_style(\"dark\")\n",
    "\n",
    "plt.rc('font', family='Noto Sans Korean')\n",
    "#plt.rc(\"savefig\", dpi=200)\n",
    "\n",
    "import os"
   ]
  },
  {
   "cell_type": "markdown",
   "metadata": {},
   "source": [
    "## ORB"
   ]
  },
  {
   "cell_type": "markdown",
   "metadata": {},
   "source": [
    "### dimenality reduction"
   ]
  },
  {
   "cell_type": "code",
   "execution_count": null,
   "metadata": {
    "collapsed": true
   },
   "outputs": [],
   "source": [
    "import scipy.cluster.vq\n",
    "\n",
    "def reduce_dimension(obs, k):\n",
    "    newobs=scipy.cluster.vq.whiten(obs)\n",
    "    \n",
    "    reducedobs, label=scipy.cluster.vq.kmeans2(newobs, 10)\n",
    "    #reducedobs, label=scipy.cluster.vq.kmeans(newobs, 10)\n",
    "    \n",
    "    return reducedobs, label"
   ]
  },
  {
   "cell_type": "markdown",
   "metadata": {},
   "source": [
    "### match function with distance"
   ]
  },
  {
   "cell_type": "code",
   "execution_count": null,
   "metadata": {
    "collapsed": false
   },
   "outputs": [],
   "source": [
    "import numpy as np\n",
    "from scipy.spatial.distance import cdist\n",
    "\n",
    "\n",
    "def match_descriptors2(descriptors1, descriptors2, metric=None, p=2,\n",
    "                      max_distance=np.inf, cross_check=True):\n",
    "    \"\"\"Brute-force matching of descriptors.\n",
    "    For each descriptor in the first set this matcher finds the closest\n",
    "    descriptor in the second set (and vice-versa in the case of enabled\n",
    "    cross-checking).\n",
    "    Parameters\n",
    "    ----------\n",
    "    descriptors1 : (M, P) array\n",
    "        Binary descriptors of size P about M keypoints in the first image.\n",
    "    descriptors2 : (N, P) array\n",
    "        Binary descriptors of size P about N keypoints in the second image.\n",
    "    metric : {'euclidean', 'cityblock', 'minkowski', 'hamming', ...}\n",
    "        The metric to compute the distance between two descriptors. See\n",
    "        `scipy.spatial.distance.cdist` for all possible types. The hamming\n",
    "        distance should be used for binary descriptors. By default the L2-norm\n",
    "        is used for all descriptors of dtype float or double and the Hamming\n",
    "        distance is used for binary descriptors automatically.\n",
    "    p : int\n",
    "        The p-norm to apply for ``metric='minkowski'``.\n",
    "    max_distance : float\n",
    "        Maximum allowed distance between descriptors of two keypoints\n",
    "        in separate images to be regarded as a match.\n",
    "    cross_check : bool\n",
    "        If True, the matched keypoints are returned after cross checking i.e. a\n",
    "        matched pair (keypoint1, keypoint2) is returned if keypoint2 is the\n",
    "        best match for keypoint1 in second image and keypoint1 is the best\n",
    "        match for keypoint2 in first image.\n",
    "    Returns\n",
    "    -------\n",
    "    matches : (Q, 2) array\n",
    "        Indices of corresponding matches in first and second set of\n",
    "        descriptors, where ``matches[:, 0]`` denote the indices in the first\n",
    "        and ``matches[:, 1]`` the indices in the second set of descriptors.\n",
    "    \"\"\"\n",
    "\n",
    "    if descriptors1.shape[1] != descriptors2.shape[1]:\n",
    "        raise ValueError(\"Descriptor length must equal.\")\n",
    "\n",
    "    if metric is None:\n",
    "        if np.issubdtype(descriptors1.dtype, np.bool):\n",
    "            metric = 'hamming'\n",
    "        else:\n",
    "            metric = 'euclidean'\n",
    "\n",
    "    distances = cdist(descriptors1, descriptors2, metric=metric, p=p)\n",
    "\n",
    "    indices1 = np.arange(descriptors1.shape[0])\n",
    "    indices2 = np.argmin(distances, axis=1)\n",
    "\n",
    "    if cross_check:\n",
    "        matches1 = np.argmin(distances, axis=0)\n",
    "        mask = indices1 == matches1[indices2]\n",
    "        indices1 = indices1[mask]\n",
    "        indices2 = indices2[mask]\n",
    "\n",
    "    matches = np.column_stack((indices1, indices2))\n",
    "\n",
    "    if max_distance < np.inf:\n",
    "        matches = matches[distances[indices1, indices2] < max_distance]\n",
    "        \n",
    "    matched_distances = distances[matches[:,0], matches[:,1]]\n",
    "        \n",
    "    return matches, matched_distances"
   ]
  },
  {
   "cell_type": "markdown",
   "metadata": {},
   "source": [
    "### match images and show distance distribution"
   ]
  },
  {
   "cell_type": "code",
   "execution_count": null,
   "metadata": {
    "collapsed": false
   },
   "outputs": [],
   "source": [
    "def match_image(img1, img2, filename1, filename2, show_result=True):\n",
    "\n",
    "    nkp=128\n",
    "\n",
    "    descriptor_extractor = ORB(n_keypoints=nkp)\n",
    "\n",
    "    descriptor_extractor.detect_and_extract(img1)\n",
    "    keypoints1 = descriptor_extractor.keypoints\n",
    "    descriptors1 = descriptor_extractor.descriptors\n",
    "\n",
    "    descriptor_extractor.detect_and_extract(img2)\n",
    "    keypoints2 = descriptor_extractor.keypoints\n",
    "    descriptors2 = descriptor_extractor.descriptors\n",
    "\n",
    "    matches, distances = match_descriptors2(descriptors1, descriptors2, cross_check=True)\n",
    "    \n",
    "    if show_result:\n",
    "        show_matched_result(keypoints1, keypoints2, matches, distances, img1, img2, filename1, filename2)\n",
    "        \n",
    "    return keypoints1, keypoints2, matches, distances\n",
    "    \n",
    "    \n",
    "def show_matched_result(keypoints1, keypoints2, matches, distances, img1, img2, filename1, filename2):\n",
    "\n",
    "    try:\n",
    "        #fig, ax = plt.subplots(nrows=1, ncols=2, gridspec_kw = {'width_ratios':[2, 2]})\n",
    "        fig, ax = plt.subplots(nrows=1, ncols=2)\n",
    "\n",
    "        plt.gray()\n",
    "        plot_matches(ax[0], img1, img2, keypoints1, keypoints2, matches)\n",
    "        #ax[0].axis('off')\n",
    "\n",
    "        plt.hist(distances, axes=ax[1])\n",
    "        #plt.axis([0, 1, 0, len(distances12)])\n",
    "        ax[1].set_xlim([0,0.5])\n",
    "            \n",
    "        fig = matplotlib.pyplot.gcf()\n",
    "        fig.set_size_inches(20, 8)\n",
    "\n",
    "        if filename1 and filename2:\n",
    "            fn1=os.path.basename(filename1)\n",
    "            fn2=os.path.basename(filename2)\n",
    "            #s=u'LEFT: %s   RIGHT: %s' % (fn1, fn2)\n",
    "            s=unicode(fn1.decode('utf-8')) + ' ' + unicode(fn2.decode('utf-8')) #.encode('utf-8')\n",
    "            st=plt.suptitle(s, fontsize=\"x-large\")\n",
    "            st.set_y(1.05)\n",
    "\n",
    "        fig.subplots_adjust(top=0.95)\n",
    "        fig.tight_layout()\n",
    "\n",
    "        plt.show()      \n",
    "    except RuntimeError as e:\n",
    "        print filename1, filename2\n",
    "        print e.message\n",
    "        \n",
    "def imread_convert(f, img_num=None):\n",
    "    try:\n",
    "        return rgb2gray(skimage.io.imread(f))\n",
    "    except IOError as e:\n",
    "        print f\n",
    "        print e.message\n",
    "        return None\n",
    "    \n",
    "def match_files(filespec):\n",
    "\n",
    "    try:\n",
    "        collection=skimage.io.ImageCollection(filespec, load_func=imread_convert)\n",
    "    except IOError as e:\n",
    "        print filespec\n",
    "        print e.message\n",
    "        return None\n",
    "    \n",
    "    #print collection.files\n",
    "\n",
    "    distances_list=[]\n",
    "    for i in range(len(collection)):\n",
    "        for j in range(i, len(collection)):\n",
    "            if i==j:\n",
    "                continue\n",
    "            keypoints1, keypoints2, matches, distances=match_image(collection[i], collection[j], collection.files[i], collection.files[j], True)        \n",
    "        distances_list.append(distances)\n",
    "        \n",
    "    return distances_list"
   ]
  },
  {
   "cell_type": "markdown",
   "metadata": {},
   "source": [
    "### Let's go to '04' set"
   ]
  },
  {
   "cell_type": "code",
   "execution_count": null,
   "metadata": {
    "collapsed": true
   },
   "outputs": [],
   "source": [
    "import pickle"
   ]
  },
  {
   "cell_type": "code",
   "execution_count": null,
   "metadata": {
    "collapsed": false
   },
   "outputs": [],
   "source": [
    "rootdir='../../../similarity/sim/05/'\n",
    "filespec='*'\n",
    "distances_list_tr=match_files(rootdir+filespec)"
   ]
  },
  {
   "cell_type": "code",
   "execution_count": null,
   "metadata": {
    "collapsed": false
   },
   "outputs": [],
   "source": [
    "darr = distances_list_tr\n",
    "X=np.concatenate(darr)\n",
    "fd=open(rootdir+'distances.pickle', 'w+')\n",
    "pickle.dump(X, fd)\n",
    "fd.close()\n",
    "#plt.hist(X)\n",
    "#plt.xlim(0, 1)"
   ]
  },
  {
   "cell_type": "code",
   "execution_count": null,
   "metadata": {
    "collapsed": false
   },
   "outputs": [],
   "source": [
    "from scipy.stats import chi2\n",
    "\n",
    "df=2\n",
    "#x=np.linspace(chi2.ppf(0.01, df),chi2.ppf(0.99, df), 100)\n",
    "\n",
    "# shape, location, and scale\n",
    "shape, loc, scale=chi2.fit(X)\n",
    "\n",
    "x=np.linspace(chi2.ppf(0.01, df),chi2.ppf(0.99, df), 100)"
   ]
  },
  {
   "cell_type": "markdown",
   "metadata": {},
   "source": [
    "### Randomly choose two images"
   ]
  },
  {
   "cell_type": "code",
   "execution_count": null,
   "metadata": {
    "collapsed": false
   },
   "outputs": [],
   "source": [
    "import imghdr\n",
    "\n",
    "#groups=['01', '02', '03', '04', '05', '06', '07', '08', '09', '10', '11', '12', '14', '15', '16', '17', '18', '19', '20', '21', '22', '23', '24', '25', '26', '27', '28', '29', '30', '31', '32', '33', '34']h\n",
    "filelist=[]\n",
    "for root, dirs, filenames in os.walk('../../../similarity/sim/'):\n",
    "    #print root\n",
    "    for filename in filenames:\n",
    "        filepath=os.path.join(root, filename)\n",
    "        if os.path.isdir(filepath):\n",
    "            continue\n",
    "        if imghdr.what(filepath):\n",
    "            filelist.append(filepath)\n",
    "\n",
    "n=len(filelist)\n",
    "niter=50\n",
    "\n",
    "distances_list=[]\n",
    "for i in range(niter):\n",
    "    ix=np.random.randint(0, n, 2)\n",
    "    \n",
    "    # check if images belong to the same class\n",
    "    fn1=filelist[ix[0]]\n",
    "    fn2=filelist[ix[1]]\n",
    "    if os.path.basename(os.path.dirname(fn1))==os.path.basename(os.path.dirname(fn2)):\n",
    "        continue\n",
    "    \n",
    "    dl=match_files([fn1, fn2])\n",
    "    distances_list += dl\n"
   ]
  },
  {
   "cell_type": "code",
   "execution_count": null,
   "metadata": {
    "collapsed": false
   },
   "outputs": [],
   "source": [
    "import datetime\n",
    "from scipy.stats import expon, norm, chi2\n",
    "\n",
    "darr =  distances_list\n",
    "timestamp=datetime.datetime.now().strftime(\"%Y%m%d%H%M%S\")\n",
    "X1=np.concatenate(darr)\n",
    "fd=open(rootdir+('distance-test%s.pickle' % timestamp), 'w+')\n",
    "pickle.dump(X, fd)\n",
    "fd.close()\n",
    "\n",
    "plt.hist(X1, normed=True, alpha=0.5, bins=20)\n",
    "plt.hist(X, normed=True, alpha=0.5, bins=20)\n",
    "\n",
    "mu, sig=norm.fit(X1)\n",
    "#print mu, sig\n",
    "x = sig*(np.linspace(norm.ppf(0.000001), norm.ppf(0.9999999), 100))+mu\n",
    "plt.plot(x, norm.pdf(x, loc=mu, scale=sig), 'b-', lw=5, alpha=0.6, label='norm pdf')\n",
    "\n",
    "\n",
    "loc, scale=expon.fit(X)\n",
    "print loc, scale\n",
    "x = scale*(np.linspace(expon.ppf(0.000001), expon.ppf(0.9999999), 100))+loc\n",
    "plt.plot(x, expon.pdf(x, loc=loc, scale=scale), 'g-', lw=5, alpha=0.6, label='exponential pdf')\n",
    "\n",
    "plt.xlim(0, 0.5)"
   ]
  },
  {
   "cell_type": "code",
   "execution_count": null,
   "metadata": {
    "collapsed": true
   },
   "outputs": [],
   "source": [
    "#img1 = rgb2gray(data.astronaut())\n",
    "fn1='../../../similarity/sim/01/084_1.jpg'\n",
    "fn2='../../../similarity/sim/01/20151106_4.jpg'\n",
    "fn3='../../../similarity/sim/01/7d5ffda950a0693f9d1beddeb79affdcbe87d7d4.15.jpg'\n",
    "\n",
    "img1 = rgb2gray(skimage.io.imread(fn1))\n",
    "img2 = rgb2gray(skimage.io.imread(fn2))\n",
    "img3 = rgb2gray(skimage.io.imread(fn3))\n",
    "\n",
    "#img2 = tf.rotate(img1, 180)\n",
    "#tform = tf.AffineTransform(scale=(1.3, 1.1), rotation=0.5,\n",
    "#                           translation=(0, -200))\n",
    "#img3 = tf.warp(img1, tform)\n",
    "\n",
    "descriptor_extractor = ORB(n_keypoints=100)\n",
    "\n",
    "descriptor_extractor.detect_and_extract(img1)\n",
    "keypoints1 = descriptor_extractor.keypoints\n",
    "descriptors1 = descriptor_extractor.descriptors\n",
    "\n",
    "K=10\n",
    "descriptors1a, label = reduce_dimension(descriptor_extractor.descriptors, K)\n",
    " \n",
    "descriptor_extractor.detect_and_extract(img2)\n",
    "keypoints2 = descriptor_extractor.keypoints\n",
    "descriptors2 = descriptor_extractor.descriptors\n",
    "\n",
    "descriptor_extractor.detect_and_extract(img3)\n",
    "keypoints3 = descriptor_extractor.keypoints\n",
    "descriptors3 = descriptor_extractor.descriptors\n",
    "\n",
    "matches12, distances12 = match_descriptors2(descriptors1, descriptors2, cross_check=True)\n",
    "matches13, distances13 = match_descriptors2(descriptors1, descriptors3, cross_check=True)\n",
    "\n",
    "fig, ax = plt.subplots(nrows=2, ncols=1)\n",
    "\n",
    "plt.gray()\n",
    "\n",
    "plot_matches(ax[0], img1, img2, keypoints1, keypoints2, matches12)\n",
    "ax[0].axis('off')\n",
    "\n",
    "plot_matches(ax[1], img1, img3, keypoints1, keypoints3, matches13)\n",
    "ax[1].axis('off')\n",
    "\n",
    "fig = matplotlib.pyplot.gcf()\n",
    "fig.set_size_inches(30, 30)\n",
    "\n",
    "plt.show()"
   ]
  },
  {
   "cell_type": "code",
   "execution_count": null,
   "metadata": {
    "collapsed": true
   },
   "outputs": [],
   "source": [
    "print distances12.shape\n",
    "print matches12.shape\n",
    "print distances12\n",
    "plt.hist(distances12)\n",
    "\n",
    "print distances13.shape\n",
    "print matches13.shape\n",
    "print distances13\n",
    "plt.hist(distances13)"
   ]
  },
  {
   "cell_type": "code",
   "execution_count": null,
   "metadata": {
    "collapsed": true
   },
   "outputs": [],
   "source": [
    "distances_ratio=[1]\n",
    "for i in range(1, len(distances12)):\n",
    "    distances_ratio.append(distances12[i]/distances12[i-1])\n",
    "plt.plot(distances_ratio)\n",
    "#plt.axis([0, 1, 0, len(dist)])\n",
    "#plt.plot(dist, 'ro')\n",
    "fig = matplotlib.pyplot.gcf()\n",
    "fig.set_size_inches(15, 5)\n",
    "plt.show()"
   ]
  }
 ],
 "metadata": {
  "kernelspec": {
   "display_name": "Python [Root]",
   "language": "python",
   "name": "Python [Root]"
  },
  "language_info": {
   "codemirror_mode": {
    "name": "ipython",
    "version": 2
   },
   "file_extension": ".py",
   "mimetype": "text/x-python",
   "name": "python",
   "nbconvert_exporter": "python",
   "pygments_lexer": "ipython2",
   "version": "2.7.12"
  }
 },
 "nbformat": 4,
 "nbformat_minor": 0
}
